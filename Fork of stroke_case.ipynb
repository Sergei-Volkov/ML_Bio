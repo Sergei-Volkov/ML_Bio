{
 "cells": [
  {
   "cell_type": "code",
   "execution_count": 6,
   "metadata": {
    "_cell_guid": "b1076dfc-b9ad-4769-8c92-a6c4dae69d19",
    "_uuid": "8f2839f25d086af736a60e9eeb907d3b93b6e0e5"
   },
   "outputs": [],
   "source": [
    "# This Python 3 environment comes with many helpful analytics libraries installed\n",
    "# It is defined by the kaggle/python docker image: https://github.com/kaggle/docker-python\n",
    "# For example, here's several helpful packages to load in \n",
    "\n",
    "import numpy as np # linear algebra\n",
    "import pandas as pd # data processing, CSV file I/O (e.g. pd.read_csv)\n",
    "import matplotlib.pyplot as plt\n",
    "\n",
    "# Input data files are available in the \"../input/\" directory.\n",
    "# For example, running this (by clicking run or pressing Shift+Enter) will list all files under the input directory\n",
    "\n",
    "import os\n",
    "for dirname, _, filenames in os.walk('/kaggle/input'):\n",
    "    for filename in filenames:\n",
    "        print(os.path.join(dirname, filename))\n",
    "\n",
    "# Any results you write to the current directory are saved as output."
   ]
  },
  {
   "cell_type": "code",
   "execution_count": 7,
   "metadata": {
    "_cell_guid": "79c7e3d0-c299-4dcb-8224-4455121ee9b0",
    "_uuid": "d629ff2d2480ee46fbb7e2d37f6b5fab8052498a"
   },
   "outputs": [],
   "source": [
    "sample = pd.read_csv('sample_submission.csv')\n",
    "test = pd.read_csv('test.csv')\n",
    "train = pd.read_csv('train.csv')"
   ]
  },
  {
   "cell_type": "code",
   "execution_count": 8,
   "metadata": {},
   "outputs": [
    {
     "data": {
      "text/html": [
       "<div>\n",
       "<style scoped>\n",
       "    .dataframe tbody tr th:only-of-type {\n",
       "        vertical-align: middle;\n",
       "    }\n",
       "\n",
       "    .dataframe tbody tr th {\n",
       "        vertical-align: top;\n",
       "    }\n",
       "\n",
       "    .dataframe thead th {\n",
       "        text-align: right;\n",
       "    }\n",
       "</style>\n",
       "<table border=\"1\" class=\"dataframe\">\n",
       "  <thead>\n",
       "    <tr style=\"text-align: right;\">\n",
       "      <th></th>\n",
       "      <th>id</th>\n",
       "      <th>gender</th>\n",
       "      <th>age</th>\n",
       "      <th>hypertension</th>\n",
       "      <th>heart_disease</th>\n",
       "      <th>ever_married</th>\n",
       "      <th>work_type</th>\n",
       "      <th>Residence_type</th>\n",
       "      <th>avg_glucose_level</th>\n",
       "      <th>bmi</th>\n",
       "      <th>smoking_status</th>\n",
       "    </tr>\n",
       "  </thead>\n",
       "  <tbody>\n",
       "    <tr>\n",
       "      <th>0</th>\n",
       "      <td>37061</td>\n",
       "      <td>Male</td>\n",
       "      <td>19.0</td>\n",
       "      <td>0</td>\n",
       "      <td>0</td>\n",
       "      <td>No</td>\n",
       "      <td>Private</td>\n",
       "      <td>Rural</td>\n",
       "      <td>92.61</td>\n",
       "      <td>16.8</td>\n",
       "      <td>never smoked</td>\n",
       "    </tr>\n",
       "    <tr>\n",
       "      <th>1</th>\n",
       "      <td>42333</td>\n",
       "      <td>Male</td>\n",
       "      <td>53.0</td>\n",
       "      <td>0</td>\n",
       "      <td>0</td>\n",
       "      <td>Yes</td>\n",
       "      <td>Govt_job</td>\n",
       "      <td>Urban</td>\n",
       "      <td>94.03</td>\n",
       "      <td>26.5</td>\n",
       "      <td>NaN</td>\n",
       "    </tr>\n",
       "    <tr>\n",
       "      <th>2</th>\n",
       "      <td>58964</td>\n",
       "      <td>Female</td>\n",
       "      <td>51.0</td>\n",
       "      <td>0</td>\n",
       "      <td>0</td>\n",
       "      <td>Yes</td>\n",
       "      <td>Private</td>\n",
       "      <td>Rural</td>\n",
       "      <td>127.22</td>\n",
       "      <td>31.0</td>\n",
       "      <td>smokes</td>\n",
       "    </tr>\n",
       "    <tr>\n",
       "      <th>3</th>\n",
       "      <td>34063</td>\n",
       "      <td>Female</td>\n",
       "      <td>17.0</td>\n",
       "      <td>0</td>\n",
       "      <td>0</td>\n",
       "      <td>No</td>\n",
       "      <td>Private</td>\n",
       "      <td>Rural</td>\n",
       "      <td>112.15</td>\n",
       "      <td>19.8</td>\n",
       "      <td>NaN</td>\n",
       "    </tr>\n",
       "    <tr>\n",
       "      <th>4</th>\n",
       "      <td>43682</td>\n",
       "      <td>Female</td>\n",
       "      <td>41.0</td>\n",
       "      <td>0</td>\n",
       "      <td>0</td>\n",
       "      <td>Yes</td>\n",
       "      <td>Govt_job</td>\n",
       "      <td>Urban</td>\n",
       "      <td>112.17</td>\n",
       "      <td>27.5</td>\n",
       "      <td>never smoked</td>\n",
       "    </tr>\n",
       "  </tbody>\n",
       "</table>\n",
       "</div>"
      ],
      "text/plain": [
       "      id  gender   age  hypertension  heart_disease ever_married work_type  \\\n",
       "0  37061    Male  19.0             0              0           No   Private   \n",
       "1  42333    Male  53.0             0              0          Yes  Govt_job   \n",
       "2  58964  Female  51.0             0              0          Yes   Private   \n",
       "3  34063  Female  17.0             0              0           No   Private   \n",
       "4  43682  Female  41.0             0              0          Yes  Govt_job   \n",
       "\n",
       "  Residence_type  avg_glucose_level   bmi smoking_status  \n",
       "0          Rural              92.61  16.8   never smoked  \n",
       "1          Urban              94.03  26.5            NaN  \n",
       "2          Rural             127.22  31.0         smokes  \n",
       "3          Rural             112.15  19.8            NaN  \n",
       "4          Urban             112.17  27.5   never smoked  "
      ]
     },
     "execution_count": 8,
     "metadata": {},
     "output_type": "execute_result"
    }
   ],
   "source": [
    "test.head()"
   ]
  },
  {
   "cell_type": "code",
   "execution_count": 9,
   "metadata": {},
   "outputs": [
    {
     "data": {
      "text/html": [
       "<div>\n",
       "<style scoped>\n",
       "    .dataframe tbody tr th:only-of-type {\n",
       "        vertical-align: middle;\n",
       "    }\n",
       "\n",
       "    .dataframe tbody tr th {\n",
       "        vertical-align: top;\n",
       "    }\n",
       "\n",
       "    .dataframe thead th {\n",
       "        text-align: right;\n",
       "    }\n",
       "</style>\n",
       "<table border=\"1\" class=\"dataframe\">\n",
       "  <thead>\n",
       "    <tr style=\"text-align: right;\">\n",
       "      <th></th>\n",
       "      <th>id</th>\n",
       "      <th>gender</th>\n",
       "      <th>age</th>\n",
       "      <th>hypertension</th>\n",
       "      <th>heart_disease</th>\n",
       "      <th>ever_married</th>\n",
       "      <th>work_type</th>\n",
       "      <th>Residence_type</th>\n",
       "      <th>avg_glucose_level</th>\n",
       "      <th>bmi</th>\n",
       "      <th>smoking_status</th>\n",
       "      <th>stroke</th>\n",
       "    </tr>\n",
       "  </thead>\n",
       "  <tbody>\n",
       "    <tr>\n",
       "      <th>0</th>\n",
       "      <td>30669</td>\n",
       "      <td>Male</td>\n",
       "      <td>3.0</td>\n",
       "      <td>0</td>\n",
       "      <td>0</td>\n",
       "      <td>No</td>\n",
       "      <td>children</td>\n",
       "      <td>Rural</td>\n",
       "      <td>95.12</td>\n",
       "      <td>18.0</td>\n",
       "      <td>NaN</td>\n",
       "      <td>0</td>\n",
       "    </tr>\n",
       "    <tr>\n",
       "      <th>1</th>\n",
       "      <td>30468</td>\n",
       "      <td>Male</td>\n",
       "      <td>58.0</td>\n",
       "      <td>1</td>\n",
       "      <td>0</td>\n",
       "      <td>Yes</td>\n",
       "      <td>Private</td>\n",
       "      <td>Urban</td>\n",
       "      <td>87.96</td>\n",
       "      <td>39.2</td>\n",
       "      <td>never smoked</td>\n",
       "      <td>0</td>\n",
       "    </tr>\n",
       "    <tr>\n",
       "      <th>2</th>\n",
       "      <td>16523</td>\n",
       "      <td>Female</td>\n",
       "      <td>8.0</td>\n",
       "      <td>0</td>\n",
       "      <td>0</td>\n",
       "      <td>No</td>\n",
       "      <td>Private</td>\n",
       "      <td>Urban</td>\n",
       "      <td>110.89</td>\n",
       "      <td>17.6</td>\n",
       "      <td>NaN</td>\n",
       "      <td>0</td>\n",
       "    </tr>\n",
       "    <tr>\n",
       "      <th>3</th>\n",
       "      <td>56543</td>\n",
       "      <td>Female</td>\n",
       "      <td>70.0</td>\n",
       "      <td>0</td>\n",
       "      <td>0</td>\n",
       "      <td>Yes</td>\n",
       "      <td>Private</td>\n",
       "      <td>Rural</td>\n",
       "      <td>69.04</td>\n",
       "      <td>35.9</td>\n",
       "      <td>formerly smoked</td>\n",
       "      <td>0</td>\n",
       "    </tr>\n",
       "    <tr>\n",
       "      <th>4</th>\n",
       "      <td>46136</td>\n",
       "      <td>Male</td>\n",
       "      <td>14.0</td>\n",
       "      <td>0</td>\n",
       "      <td>0</td>\n",
       "      <td>No</td>\n",
       "      <td>Never_worked</td>\n",
       "      <td>Rural</td>\n",
       "      <td>161.28</td>\n",
       "      <td>19.1</td>\n",
       "      <td>NaN</td>\n",
       "      <td>0</td>\n",
       "    </tr>\n",
       "  </tbody>\n",
       "</table>\n",
       "</div>"
      ],
      "text/plain": [
       "      id  gender   age  hypertension  heart_disease ever_married  \\\n",
       "0  30669    Male   3.0             0              0           No   \n",
       "1  30468    Male  58.0             1              0          Yes   \n",
       "2  16523  Female   8.0             0              0           No   \n",
       "3  56543  Female  70.0             0              0          Yes   \n",
       "4  46136    Male  14.0             0              0           No   \n",
       "\n",
       "      work_type Residence_type  avg_glucose_level   bmi   smoking_status  \\\n",
       "0      children          Rural              95.12  18.0              NaN   \n",
       "1       Private          Urban              87.96  39.2     never smoked   \n",
       "2       Private          Urban             110.89  17.6              NaN   \n",
       "3       Private          Rural              69.04  35.9  formerly smoked   \n",
       "4  Never_worked          Rural             161.28  19.1              NaN   \n",
       "\n",
       "   stroke  \n",
       "0       0  \n",
       "1       0  \n",
       "2       0  \n",
       "3       0  \n",
       "4       0  "
      ]
     },
     "execution_count": 9,
     "metadata": {},
     "output_type": "execute_result"
    }
   ],
   "source": [
    "train.head()"
   ]
  },
  {
   "cell_type": "markdown",
   "metadata": {},
   "source": [
    "# Preprocessing"
   ]
  },
  {
   "cell_type": "code",
   "execution_count": 10,
   "metadata": {},
   "outputs": [
    {
     "data": {
      "text/plain": [
       "Female    17676\n",
       "Male      12315\n",
       "Other        10\n",
       "Name: gender, dtype: int64"
      ]
     },
     "execution_count": 10,
     "metadata": {},
     "output_type": "execute_result"
    }
   ],
   "source": [
    "train.gender.fillna('NaN').value_counts() ## checking does Gender feature\n",
    "                                          ## has NaN values"
   ]
  },
  {
   "cell_type": "code",
   "execution_count": 11,
   "metadata": {},
   "outputs": [
    {
     "data": {
      "text/plain": [
       "Female    7989\n",
       "Male      5410\n",
       "Other        1\n",
       "Name: gender, dtype: int64"
      ]
     },
     "execution_count": 11,
     "metadata": {},
     "output_type": "execute_result"
    }
   ],
   "source": [
    "test.gender.fillna('NaN').value_counts()"
   ]
  },
  {
   "cell_type": "code",
   "execution_count": 12,
   "metadata": {},
   "outputs": [],
   "source": [
    "train['Gender_1'] = (train.gender == 'Female') * 1 ## creating binary \n",
    "train['Gender_2'] = (train.gender == 'Male') * 1 ## features from\n",
    "train['Gender_3'] = (train.gender == 'Other') * 1 ## info about gender"
   ]
  },
  {
   "cell_type": "code",
   "execution_count": 13,
   "metadata": {},
   "outputs": [],
   "source": [
    "test['Gender_1'] = (test.gender == 'Female') * 1\n",
    "test['Gender_2'] = (test.gender == 'Male') * 1\n",
    "test['Gender_3'] = (test.gender == 'Other') * 1"
   ]
  },
  {
   "cell_type": "code",
   "execution_count": 14,
   "metadata": {},
   "outputs": [
    {
     "data": {
      "text/plain": [
       "Urban    15028\n",
       "Rural    14973\n",
       "Name: Residence_type, dtype: int64"
      ]
     },
     "execution_count": 14,
     "metadata": {},
     "output_type": "execute_result"
    }
   ],
   "source": [
    "train.Residence_type.fillna('NaN').value_counts() ## checking does \n",
    "                                                  ## Res_type feature\n",
    "                                                  ## has NaN values"
   ]
  },
  {
   "cell_type": "code",
   "execution_count": 15,
   "metadata": {},
   "outputs": [
    {
     "data": {
      "text/plain": [
       "Urban    6728\n",
       "Rural    6672\n",
       "Name: Residence_type, dtype: int64"
      ]
     },
     "execution_count": 15,
     "metadata": {},
     "output_type": "execute_result"
    }
   ],
   "source": [
    "test.Residence_type.fillna('NaN').value_counts()"
   ]
  },
  {
   "cell_type": "code",
   "execution_count": 16,
   "metadata": {},
   "outputs": [],
   "source": [
    "Residence_type_dict = {'Urban' : 0, 'Rural' : 1} ## dictionary to convert\n",
    "                                                ## Res_type to binary\n",
    "                                                ## feature"
   ]
  },
  {
   "cell_type": "code",
   "execution_count": 17,
   "metadata": {},
   "outputs": [],
   "source": [
    "## converting Res_type to bin feature\n",
    "train['Residence_type'] =train['Residence_type'].replace(Residence_type_dict)\n",
    "test['Residence_type'] = test['Residence_type'].replace(Residence_type_dict)"
   ]
  },
  {
   "cell_type": "code",
   "execution_count": 18,
   "metadata": {},
   "outputs": [
    {
     "data": {
      "text/plain": [
       "Yes    19376\n",
       "No     10625\n",
       "Name: ever_married, dtype: int64"
      ]
     },
     "execution_count": 18,
     "metadata": {},
     "output_type": "execute_result"
    }
   ],
   "source": [
    "train.ever_married.fillna('NaN').value_counts() ## checking does \n",
    "                                                ## ever_married feature\n",
    "                                                ## has NaN values"
   ]
  },
  {
   "cell_type": "code",
   "execution_count": 19,
   "metadata": {},
   "outputs": [
    {
     "data": {
      "text/plain": [
       "Yes    8562\n",
       "No     4838\n",
       "Name: ever_married, dtype: int64"
      ]
     },
     "execution_count": 19,
     "metadata": {},
     "output_type": "execute_result"
    }
   ],
   "source": [
    "test.ever_married.fillna('NaN').value_counts()"
   ]
  },
  {
   "cell_type": "code",
   "execution_count": 20,
   "metadata": {},
   "outputs": [],
   "source": [
    "ever_married_dict = {'Yes': 1, 'No':0 } ## dictionary to convert \n",
    "                                        ## ever_married to binary\n",
    "                                        ## feature"
   ]
  },
  {
   "cell_type": "code",
   "execution_count": 21,
   "metadata": {},
   "outputs": [],
   "source": [
    "## converting ever_married feature to binary\n",
    "train['ever_married'] = train['ever_married'].replace(ever_married_dict)\n",
    "test['ever_married'] = test['ever_married'].replace(ever_married_dict)"
   ]
  },
  {
   "cell_type": "code",
   "execution_count": 22,
   "metadata": {},
   "outputs": [
    {
     "data": {
      "text/plain": [
       "Private          17220\n",
       "Self-employed     4674\n",
       "children          4188\n",
       "Govt_job          3804\n",
       "Never_worked       115\n",
       "Name: work_type, dtype: int64"
      ]
     },
     "execution_count": 22,
     "metadata": {},
     "output_type": "execute_result"
    }
   ],
   "source": [
    "train.work_type.fillna('NaN').value_counts() ## checking does work_type\n",
    "                                            ## feature has NaN values"
   ]
  },
  {
   "cell_type": "code",
   "execution_count": 23,
   "metadata": {},
   "outputs": [
    {
     "data": {
      "text/plain": [
       "Private          7615\n",
       "Self-employed    2119\n",
       "children         1968\n",
       "Govt_job         1636\n",
       "Never_worked       62\n",
       "Name: work_type, dtype: int64"
      ]
     },
     "execution_count": 23,
     "metadata": {},
     "output_type": "execute_result"
    }
   ],
   "source": [
    "test.work_type.fillna('NaN').value_counts()"
   ]
  },
  {
   "cell_type": "code",
   "execution_count": 24,
   "metadata": {},
   "outputs": [],
   "source": [
    "## converting work_type to n binary features\n",
    "train['Work_1'] = (train.work_type == 'Private') * 1\n",
    "train['Work_2'] = (train.work_type == 'Self-employed') * 1\n",
    "train['Work_3'] = (train.work_type == 'children') * 1\n",
    "train['Work_4'] = (train.work_type == 'Govt_job') * 1\n",
    "train['Work_5'] = (train.work_type == 'Never_worked') * 1"
   ]
  },
  {
   "cell_type": "code",
   "execution_count": 25,
   "metadata": {},
   "outputs": [],
   "source": [
    "test['Work_1'] = (test.work_type == 'Private') * 1\n",
    "test['Work_2'] = (test.work_type == 'Self-employed') * 1\n",
    "test['Work_3'] = (test.work_type == 'children') * 1\n",
    "test['Work_4'] = (test.work_type == 'Govt_job') * 1\n",
    "test['Work_5'] = (test.work_type == 'Never_worked') * 1"
   ]
  },
  {
   "cell_type": "code",
   "execution_count": 26,
   "metadata": {},
   "outputs": [],
   "source": [
    "## checking does smoking_status has NaN values \n",
    "train.smoking_status = train.smoking_status.fillna('NaN')"
   ]
  },
  {
   "cell_type": "code",
   "execution_count": 27,
   "metadata": {},
   "outputs": [
    {
     "data": {
      "text/plain": [
       "never smoked       11079\n",
       "NaN                 9176\n",
       "formerly smoked     5183\n",
       "smokes              4563\n",
       "Name: smoking_status, dtype: int64"
      ]
     },
     "execution_count": 27,
     "metadata": {},
     "output_type": "execute_result"
    }
   ],
   "source": [
    "train.smoking_status.value_counts()"
   ]
  },
  {
   "cell_type": "code",
   "execution_count": 28,
   "metadata": {},
   "outputs": [],
   "source": [
    "test.smoking_status = test.smoking_status.fillna('NaN')"
   ]
  },
  {
   "cell_type": "code",
   "execution_count": 29,
   "metadata": {},
   "outputs": [
    {
     "data": {
      "text/plain": [
       "never smoked       4975\n",
       "NaN                4116\n",
       "formerly smoked    2310\n",
       "smokes             1999\n",
       "Name: smoking_status, dtype: int64"
      ]
     },
     "execution_count": 29,
     "metadata": {},
     "output_type": "execute_result"
    }
   ],
   "source": [
    "test.smoking_status.value_counts()"
   ]
  },
  {
   "cell_type": "code",
   "execution_count": 30,
   "metadata": {},
   "outputs": [],
   "source": [
    "## converting smoking_status to n binary features\n",
    "train['Smoking_1'] = (train.smoking_status == 'never smoked') * 1\n",
    "train['Smoking_2'] = (train.smoking_status == 'NaN') * 1\n",
    "train['Smoking_3'] = (train.smoking_status == 'formerly smoked') * 1\n",
    "train['Smoking_4'] = (train.smoking_status == 'smokes') * 1"
   ]
  },
  {
   "cell_type": "code",
   "execution_count": 31,
   "metadata": {},
   "outputs": [],
   "source": [
    "test['Smoking_1'] = (test.smoking_status == 'never smoked') * 1\n",
    "test['Smoking_2'] = (test.smoking_status == 'NaN') * 1\n",
    "test['Smoking_3'] = (test.smoking_status == 'formerly smoked') * 1\n",
    "test['Smoking_4'] = (test.smoking_status == 'smokes') * 1"
   ]
  },
  {
   "cell_type": "code",
   "execution_count": 32,
   "metadata": {},
   "outputs": [
    {
     "data": {
      "text/plain": [
       "0    28566\n",
       "1     1435\n",
       "Name: heart_disease, dtype: int64"
      ]
     },
     "execution_count": 32,
     "metadata": {},
     "output_type": "execute_result"
    }
   ],
   "source": [
    "train.hypertension.fillna('NaN').value_counts()\n",
    "train.heart_disease.fillna('NaN').value_counts()\n",
    "# binary 0 1 features no NaN's"
   ]
  },
  {
   "cell_type": "code",
   "execution_count": 33,
   "metadata": {},
   "outputs": [
    {
     "data": {
      "text/plain": [
       "0    12773\n",
       "1      627\n",
       "Name: heart_disease, dtype: int64"
      ]
     },
     "execution_count": 33,
     "metadata": {},
     "output_type": "execute_result"
    }
   ],
   "source": [
    "test.hypertension.fillna('NaN').value_counts()\n",
    "test.heart_disease.fillna('NaN').value_counts()\n",
    "# binary 0 1 features no NaN's"
   ]
  },
  {
   "cell_type": "code",
   "execution_count": 34,
   "metadata": {},
   "outputs": [],
   "source": [
    "## filling NaN values with mean value of feature to include this values \n",
    "## in training without influecing it\n",
    "train.bmi = train.bmi.fillna(train.bmi.mean())"
   ]
  },
  {
   "cell_type": "code",
   "execution_count": 35,
   "metadata": {},
   "outputs": [],
   "source": [
    "test.bmi = test.bmi.fillna(test.bmi.mean())"
   ]
  },
  {
   "cell_type": "code",
   "execution_count": 36,
   "metadata": {},
   "outputs": [],
   "source": [
    "from sklearn import preprocessing, linear_model"
   ]
  },
  {
   "cell_type": "code",
   "execution_count": 37,
   "metadata": {},
   "outputs": [],
   "source": [
    "min_max_scaler = preprocessing.MinMaxScaler() ## scaling real valued data\n",
    "train[['age', 'avg_glucose_level', 'bmi']] = min_max_scaler.fit_transform(train[['age', 'avg_glucose_level', 'bmi']])"
   ]
  },
  {
   "cell_type": "code",
   "execution_count": 38,
   "metadata": {},
   "outputs": [],
   "source": [
    "test[['age', 'avg_glucose_level', 'bmi']] = min_max_scaler.fit_transform(test[['age', 'avg_glucose_level', 'bmi']])"
   ]
  },
  {
   "cell_type": "code",
   "execution_count": 39,
   "metadata": {},
   "outputs": [
    {
     "data": {
      "text/plain": [
       "0.212134    1017\n",
       "0.201143     196\n",
       "0.194286     192\n",
       "0.200000     183\n",
       "0.192000     182\n",
       "            ... \n",
       "0.596571       1\n",
       "0.569143       1\n",
       "0.525714       1\n",
       "0.020571       1\n",
       "1.000000       1\n",
       "Name: bmi, Length: 537, dtype: int64"
      ]
     },
     "execution_count": 39,
     "metadata": {},
     "output_type": "execute_result"
    }
   ],
   "source": [
    "train.bmi.value_counts()"
   ]
  },
  {
   "cell_type": "code",
   "execution_count": 40,
   "metadata": {},
   "outputs": [],
   "source": [
    "## Creating list of features we will be working with\n",
    "features_list = ['age', 'hypertension', 'heart_disease', 'ever_married', 'Residence_type', 'avg_glucose_level', 'bmi', 'Gender_1', 'Gender_2', 'Gender_3',\n",
    "       'Work_1', 'Work_2', 'Work_3', 'Work_4', 'Work_5', 'Smoking_1',\n",
    "       'Smoking_2', 'Smoking_3', 'Smoking_4']"
   ]
  },
  {
   "cell_type": "markdown",
   "metadata": {},
   "source": [
    "# Training models"
   ]
  },
  {
   "cell_type": "markdown",
   "metadata": {},
   "source": [
    "## XGBoost"
   ]
  },
  {
   "cell_type": "code",
   "execution_count": 45,
   "metadata": {},
   "outputs": [],
   "source": [
    "import xgboost as xgb\n",
    "from sklearn.model_selection import KFold"
   ]
  },
  {
   "cell_type": "code",
   "execution_count": 46,
   "metadata": {},
   "outputs": [],
   "source": [
    "from sklearn.metrics import roc_curve, roc_auc_score\n",
    "\n",
    "## Dividing data on train and test\n",
    "kf = KFold(n_splits = 5, random_state=10)\n",
    "\n",
    "## Dividing train dataset on features and target\n",
    "features = np.array(train[features_list])\n",
    "target = np.array(train['stroke'])\n",
    "\n",
    "## Choosing model – XGBoost Classifier\n",
    "## Doing Cross-validation for 1, 3 and 5 depth trees, with 5, 10, 25, 50, 100, 250, 500, (1000 – only for depth = 1) estimators\n",
    "scores = [ [], [], [], [], [], [], [], [], [], [], [], [], [], [], [], [], [], [], [], [], [], []]\n",
    "mean_scores = []\n",
    "\n",
    "i = 0\n",
    "for depth, estim in zip([1, 1, 1, 1, 1, 1, 1, 1, 3, 3, 3, 3, 3, 3, 3, 5, 5, 5, 5, 5, 5, 5],\n",
    "                        [5, 10, 25, 50, 100, 250, 500, 1000, 5, 10, 25, 50, 100, 250, 500, 5, 10, 25, 50, 100, 250, 500]):\n",
    "    clf = xgb.XGBClassifier(max_depth = depth, n_estimators = estim, random_state=1)\n",
    "    preds = []\n",
    "    \n",
    "    ## Cross-Validation\n",
    "    for train_index, test_index in kf.split(X=features, y=target): ## Splitting data for cross-validation\n",
    "        X_train, X_test = features[train_index], features[test_index]\n",
    "        y_train, y_test = target[train_index], target[test_index]\n",
    "        clf.fit(X_train, y_train) ## Fitting choosed classifier\n",
    "        prediction = clf.predict_proba(X_test)[:,1] ## Getting predictions using fitted classifier\n",
    "        preds.append(roc_auc_score(y_test, prediction)) ## Calculating ROC-AUC score for each pair of parameters\n",
    "\n",
    "        scores[i].append(preds)\n",
    "    i += 1\n",
    "    \n",
    "for j in range(len(scores)): ## Calculating mean ROC-AUC score for each pair of parameters\n",
    "    mean_scores.append(np.mean(scores[j]))"
   ]
  },
  {
   "cell_type": "code",
   "execution_count": 47,
   "metadata": {},
   "outputs": [
    {
     "data": {
      "text/plain": [
       "<matplotlib.legend.Legend at 0xc648fb0>"
      ]
     },
     "execution_count": 47,
     "metadata": {},
     "output_type": "execute_result"
    },
    {
     "data": {
      "image/png": "[encoded data removed]",
      "text/plain": [
       "<Figure size 432x288 with 1 Axes>"
      ]
     },
     "metadata": {
      "needs_background": "light"
     },
     "output_type": "display_data"
    }
   ],
   "source": [
    "## Plotting ROC-AUC scores as function of number of trees\n",
    "trees1 = np.array( [ 5, 10, 25, 50, 100, 250, 500, 1000 ] )\n",
    "trees35 = np.array( [ 5, 10, 25, 50, 100, 250, 500] )\n",
    "\n",
    "plt.figure()\n",
    "plt.plot(trees1, mean_scores[:8], label='depth = 1')\n",
    "plt.plot(trees35, mean_scores[8:15], label='depth = 3')\n",
    "plt.plot(trees35, mean_scores[15:], label='depth = 5')\n",
    "\n",
    "plt.title('XGBoost')\n",
    "plt.xlabel('n trees')\n",
    "plt.ylabel('Mean ROC-AUC score')\n",
    "plt.grid()\n",
    "plt.legend()"
   ]
  },
  {
   "cell_type": "code",
   "execution_count": 74,
   "metadata": {},
   "outputs": [
    {
     "name": "stdout",
     "output_type": "stream",
     "text": [
      "Max ROC-AUC score = 0.618\n",
      "Kaggle score = 0.85996\n"
     ]
    }
   ],
   "source": [
    "xgboost = max(mean_scores)\n",
    "print( 'Max ROC-AUC score = {}'.format(round(xgboost, 3)) )\n",
    "print( 'Kaggle score = 0.85996' )"
   ]
  },
  {
   "cell_type": "code",
   "execution_count": 59,
   "metadata": {},
   "outputs": [],
   "source": [
    "## Predictng values of stroke feature on test\n",
    "clf = xgb.XGBClassifier(max_depth = 1, n_estimators = 250, random_state=1)\n",
    "clf.fit(train[features_list], train['stroke'])\n",
    "\n",
    "pred = clf.predict_proba(test[features_list])[:,1]\n",
    "\n",
    "sample['stroke'] = pred\n",
    "\n",
    "sample.to_csv('submit1.csv', index = None )"
   ]
  },
  {
   "cell_type": "markdown",
   "metadata": {},
   "source": [
    "## SGD (Stochastic Gradient Descent)"
   ]
  },
  {
   "cell_type": "code",
   "execution_count": 60,
   "metadata": {},
   "outputs": [],
   "source": [
    "scores = [ [], [], [], [], [], [], [], [], [], [], [], [] ]\n",
    "mean_scores = []\n",
    "\n",
    "## Choosing model – SGD\n",
    "## Doing Cross-validation for l1 and l2 penalties, with lg(alpha) = -6, -5, -4, -3, -2, -1, 0\n",
    "## Changing amount of maximum iterations doesn't influence anything significantly, so it's constant\n",
    "i = 0\n",
    "for alpha, penalty in zip([1, 0.1, 0.001, 0.0001, 0.00001, 1e-6, 1, 0.1, 0.001, 0.0001, 0.00001, 1e-6],\n",
    "                        ['l1', 'l1', 'l1', 'l1', 'l1', 'l1', 'l2', 'l2', 'l2', 'l2', 'l2', 'l2']):\n",
    "    clf = linear_model.SGDClassifier(max_iter=1000,  loss='log', penalty = penalty, alpha = alpha)\n",
    "    preds = []\n",
    "    \n",
    "    ## Cross-Validation\n",
    "    for train_index, test_index in kf.split(X=features, y=target): ## Splitting data for cross-validation\n",
    "        X_train, X_test = features[train_index], features[test_index]\n",
    "        y_train, y_test = target[train_index], target[test_index]\n",
    "        clf.fit(X_train, y_train) ## Fitting choosed classifier\n",
    "        prediction = clf.predict_proba(X_test)[:,1] ## Getting predictions using fitted classifier\n",
    "        preds.append(roc_auc_score(y_test, prediction)) ## Calculating ROC-AUC score for each pair of parameters\n",
    "\n",
    "        scores[i].append(preds)\n",
    "    i += 1\n",
    "    \n",
    "for j in range(len(scores)): ## Calculating mean ROC-AUC score for each pair of parameters\n",
    "    mean_scores.append(np.mean(scores[j]))"
   ]
  },
  {
   "cell_type": "code",
   "execution_count": 61,
   "metadata": {},
   "outputs": [
    {
     "data": {
      "text/plain": [
       "<matplotlib.legend.Legend at 0x151efff0>"
      ]
     },
     "execution_count": 61,
     "metadata": {},
     "output_type": "execute_result"
    },
    {
     "data": {
      "image/png": "[encoded data removed]",
      "text/plain": [
       "<Figure size 432x288 with 1 Axes>"
      ]
     },
     "metadata": {
      "needs_background": "light"
     },
     "output_type": "display_data"
    }
   ],
   "source": [
    "## Plotting ROC-AUC scores as function of alpha\n",
    "alpha = np.array( [ 1, 0.1, 0.001, 0.0001, 0.00001, 1e-6 ] )\n",
    "\n",
    "plt.figure()\n",
    "plt.plot(np.log10(alpha), mean_scores[:6], label='penalty = l1')\n",
    "plt.plot(np.log10(alpha), mean_scores[6:], label='penalty = l2')\n",
    "\n",
    "plt.title('SGD')\n",
    "plt.xlabel('lg(alpha)')\n",
    "plt.ylabel('Mean ROC-AUC score')\n",
    "plt.grid()\n",
    "plt.legend()"
   ]
  },
  {
   "cell_type": "code",
   "execution_count": 62,
   "metadata": {},
   "outputs": [
    {
     "name": "stdout",
     "output_type": "stream",
     "text": [
      "Max ROC-AUC score = 0.845\n"
     ]
    }
   ],
   "source": [
    "sgd = max(mean_scores)\n",
    "print( 'Max ROC-AUC score = {}'.format(round(sgd, 3)) )\n",
    "print( 'Kaggle score = 0.86331' )"
   ]
  },
  {
   "cell_type": "code",
   "execution_count": 63,
   "metadata": {},
   "outputs": [],
   "source": [
    "## Predictng values of stroke feature on test\n",
    "clf = linear_model.SGDClassifier(max_iter=1000,  loss='log', penalty = 'l1', alpha = 1e-3)\n",
    "clf.fit(train[features_list], train['stroke'])\n",
    "\n",
    "pred = clf.predict_proba(test[features_list])[:,1]\n",
    "\n",
    "sample['stroke'] = pred\n",
    "\n",
    "sample.to_csv('submit2.csv', index = None )"
   ]
  },
  {
   "cell_type": "markdown",
   "metadata": {},
   "source": [
    "## kNN"
   ]
  },
  {
   "cell_type": "code",
   "execution_count": 64,
   "metadata": {},
   "outputs": [],
   "source": [
    "from sklearn.neighbors import KNeighborsClassifier"
   ]
  },
  {
   "cell_type": "code",
   "execution_count": 122,
   "metadata": {},
   "outputs": [],
   "source": [
    "scores = [ [], [], [], [], [], [], [], [], [], [], [], [], [] ]\n",
    "mean_scores = []\n",
    "\n",
    "## Choosing model – kNN\n",
    "## Doing Cross-validation for some n_neighbors\n",
    "i = 0\n",
    "for neigh in [3, 5, 10, 15, 20, 30, 40, 50, 75, 100, 200, 300, 500]:\n",
    "    clf = KNeighborsClassifier(n_neighbors=neigh)\n",
    "    preds = []\n",
    "    \n",
    "    ## Cross-Validation\n",
    "    for train_index, test_index in kf.split(X=features, y=target): ## Splitting data for cross-validation\n",
    "        X_train, X_test = features[train_index], features[test_index]\n",
    "        y_train, y_test = target[train_index], target[test_index]\n",
    "        clf.fit(X_train, y_train) ## Fitting choosed classifier\n",
    "        prediction = clf.predict_proba(X_test)[:,1] ## Getting predictions using fitted classifier\n",
    "        preds.append(roc_auc_score(y_test, prediction)) ## Calculating ROC-AUC score for each pair of parameters\n",
    "\n",
    "        scores[i].append(preds)\n",
    "        #print(scores)\n",
    "    i += 1\n",
    "    \n",
    "for j in range(len(scores)): ## Calculating mean ROC-AUC score for each pair of parameters\n",
    "    mean_scores.append(np.mean(scores[j]))"
   ]
  },
  {
   "cell_type": "code",
   "execution_count": 123,
   "metadata": {},
   "outputs": [
    {
     "data": {
      "text/plain": [
       "<matplotlib.legend.Legend at 0x173a4f10>"
      ]
     },
     "execution_count": 123,
     "metadata": {},
     "output_type": "execute_result"
    },
    {
     "data": {
      "image/png": "[encoded data removed]",
      "text/plain": [
       "<Figure size 432x288 with 1 Axes>"
      ]
     },
     "metadata": {
      "needs_background": "light"
     },
     "output_type": "display_data"
    }
   ],
   "source": [
    "## Plotting ROC-AUC scores as function of number of neighbors\n",
    "neighbors = np.array( [ 3, 5, 10, 15, 20, 30, 40, 50, 75, 100, 200, 300, 500 ] )\n",
    "\n",
    "plt.figure()\n",
    "plt.plot(neighbors, mean_scores, label='p = 2')\n",
    "\n",
    "plt.title('kNN')\n",
    "plt.xlabel('n_neighbors')\n",
    "plt.ylabel('Mean ROC-AUC score')\n",
    "plt.grid()\n",
    "plt.legend()"
   ]
  },
  {
   "cell_type": "code",
   "execution_count": 127,
   "metadata": {},
   "outputs": [
    {
     "name": "stdout",
     "output_type": "stream",
     "text": [
      "Max ROC-AUC score = 0.78\n",
      "Kaggle score = 0.80377\n"
     ]
    }
   ],
   "source": [
    "knn = max(mean_scores)\n",
    "print( 'Max ROC-AUC score = {}'.format(round(knn, 3)) )\n",
    "print( 'Kaggle score = 0.80377' )"
   ]
  },
  {
   "cell_type": "code",
   "execution_count": 126,
   "metadata": {},
   "outputs": [],
   "source": [
    "## Predictng values of stroke feature on test\n",
    "clf = KNeighborsClassifier(n_neighbors=200)\n",
    "clf.fit(train[features_list], train['stroke'])\n",
    "\n",
    "pred = clf.predict_proba(test[features_list])[:,1]\n",
    "\n",
    "sample['stroke'] = pred\n",
    "\n",
    "sample.to_csv('submit3.csv', index = None )"
   ]
  },
  {
   "cell_type": "markdown",
   "metadata": {},
   "source": [
    "# Best algorithm\n",
    "### According to kaggle and cv scores, t the best algorithm out of 3 is SGD with logarithmic loss function and L1 penalty."
   ]
  },
  {
   "cell_type": "markdown",
   "metadata": {},
   "source": [
    "## PCA Training"
   ]
  },
  {
   "cell_type": "code",
   "execution_count": null,
   "metadata": {},
   "outputs": [],
   "source": [
    "from sklearn.decomposition import PCA"
   ]
  },
  {
   "cell_type": "code",
   "execution_count": null,
   "metadata": {},
   "outputs": [],
   "source": [
    "pca = PCA(n_components=2)\n",
    "pca.fit(train[features_list])"
   ]
  },
  {
   "cell_type": "code",
   "execution_count": null,
   "metadata": {},
   "outputs": [],
   "source": [
    "train_pca_transformed =  pca.transform(train[features_list])"
   ]
  },
  {
   "cell_type": "code",
   "execution_count": null,
   "metadata": {},
   "outputs": [],
   "source": [
    "test_pca_transformed =  pca.transform(test[features_list])"
   ]
  }
 ],
 "metadata": {
  "kernelspec": {
   "display_name": "Python 3",
   "language": "python",
   "name": "python3"
  },
  "language_info": {
   "codemirror_mode": {
    "name": "ipython",
    "version": 3
   },
   "file_extension": ".py",
   "mimetype": "text/x-python",
   "name": "python",
   "nbconvert_exporter": "python",
   "pygments_lexer": "ipython3",
   "version": "3.7.5"
  }
 },
 "nbformat": 4,
 "nbformat_minor": 1
}
